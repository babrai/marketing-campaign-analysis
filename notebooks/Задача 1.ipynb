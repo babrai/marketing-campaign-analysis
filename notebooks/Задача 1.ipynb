{
 "cells": [
  {
   "cell_type": "markdown",
   "id": "3ad4333c-097a-4b74-899f-f9f1241573c8",
   "metadata": {},
   "source": [
    "## Задача 1\n",
    "С помощью SQL запроса подготовьте данные для оценки рекламных кампаний. Итоговый отчет должен содержать сводные показатели, сгруппированные по дате, каналу и кампании привлечения пользователей."
   ]
  },
  {
   "cell_type": "code",
   "execution_count": 2,
   "id": "579d97e2-ca1e-4183-9376-d6eb4e793ad5",
   "metadata": {},
   "outputs": [],
   "source": [
    "import pandas as pd\n",
    "import sqlite3"
   ]
  },
  {
   "cell_type": "code",
   "execution_count": 3,
   "id": "0feb4cc8-c3aa-4ddb-8194-b83c841722f8",
   "metadata": {},
   "outputs": [],
   "source": [
    "#Читаем CSV-файлы\n",
    "\n",
    "users = pd.read_csv(\"users.csv\")\n",
    "attribution = pd.read_csv(\"attribution.csv\")\n",
    "payments = pd.read_csv(\"payments.csv\")\n",
    "ad_data = pd.read_csv(\"ad_data.csv\")"
   ]
  },
  {
   "cell_type": "code",
   "execution_count": 4,
   "id": "6712a769-fb19-4251-8de5-90fa8368156c",
   "metadata": {},
   "outputs": [],
   "source": [
    "#Создаём базу данных в памяти\n",
    "\n",
    "conn = sqlite3.connect(\":memory:\")"
   ]
  },
  {
   "cell_type": "code",
   "execution_count": 5,
   "id": "ec1dafff-dfa2-4fdb-a8e0-cacbec17a88a",
   "metadata": {},
   "outputs": [
    {
     "data": {
      "text/plain": [
       "91"
      ]
     },
     "execution_count": 5,
     "metadata": {},
     "output_type": "execute_result"
    }
   ],
   "source": [
    "#Загружаем таблицы в базу\n",
    "\n",
    "users.to_sql(\"users\", conn, index=False, if_exists=\"replace\")\n",
    "attribution.to_sql(\"attribution\", conn, index=False, if_exists=\"replace\")\n",
    "payments.to_sql(\"payments\", conn, index=False, if_exists=\"replace\")\n",
    "ad_data.to_sql(\"ad_data\", conn, index=False, if_exists=\"replace\")"
   ]
  },
  {
   "cell_type": "code",
   "execution_count": 6,
   "id": "014066b0-c8b1-41e8-b67b-f48a8dc0640e",
   "metadata": {},
   "outputs": [],
   "source": [
    "#Функция для SQL-запросов\n",
    "\n",
    "def sql(query):\n",
    "    return pd.read_sql_query(query, conn)"
   ]
  },
  {
   "cell_type": "markdown",
   "id": "c4a779b4-8fce-4c26-8d26-16c60f026eb4",
   "metadata": {},
   "source": [
    "Проверка users:\n",
    "- нет ли дубликатов\n",
    "- нет ли NULL\n",
    "- даты в разумном диапазоне"
   ]
  },
  {
   "cell_type": "code",
   "execution_count": 7,
   "id": "4e871d16-fba1-4521-b857-3e22ee28399e",
   "metadata": {},
   "outputs": [
    {
     "data": {
      "text/html": [
       "<div>\n",
       "<style scoped>\n",
       "    .dataframe tbody tr th:only-of-type {\n",
       "        vertical-align: middle;\n",
       "    }\n",
       "\n",
       "    .dataframe tbody tr th {\n",
       "        vertical-align: top;\n",
       "    }\n",
       "\n",
       "    .dataframe thead th {\n",
       "        text-align: right;\n",
       "    }\n",
       "</style>\n",
       "<table border=\"1\" class=\"dataframe\">\n",
       "  <thead>\n",
       "    <tr style=\"text-align: right;\">\n",
       "      <th></th>\n",
       "      <th>unique_users</th>\n",
       "      <th>total_rows</th>\n",
       "    </tr>\n",
       "  </thead>\n",
       "  <tbody>\n",
       "    <tr>\n",
       "      <th>0</th>\n",
       "      <td>29767</td>\n",
       "      <td>29767</td>\n",
       "    </tr>\n",
       "  </tbody>\n",
       "</table>\n",
       "</div>"
      ],
      "text/plain": [
       "   unique_users  total_rows\n",
       "0         29767       29767"
      ]
     },
     "execution_count": 7,
     "metadata": {},
     "output_type": "execute_result"
    }
   ],
   "source": [
    "# количество уникальных и общих user_id в users\n",
    "\n",
    "sql(\"\"\"\n",
    "SELECT COUNT(DISTINCT user_id) AS unique_users,\n",
    "       COUNT(*) AS total_rows\n",
    "FROM users;\n",
    "\"\"\")\n"
   ]
  },
  {
   "cell_type": "code",
   "execution_count": 8,
   "id": "2c9267f1-1264-4f64-bc02-64520b2cf5ab",
   "metadata": {},
   "outputs": [
    {
     "data": {
      "text/html": [
       "<div>\n",
       "<style scoped>\n",
       "    .dataframe tbody tr th:only-of-type {\n",
       "        vertical-align: middle;\n",
       "    }\n",
       "\n",
       "    .dataframe tbody tr th {\n",
       "        vertical-align: top;\n",
       "    }\n",
       "\n",
       "    .dataframe thead th {\n",
       "        text-align: right;\n",
       "    }\n",
       "</style>\n",
       "<table border=\"1\" class=\"dataframe\">\n",
       "  <thead>\n",
       "    <tr style=\"text-align: right;\">\n",
       "      <th></th>\n",
       "      <th>event_datetime</th>\n",
       "      <th>user_id</th>\n",
       "      <th>platform</th>\n",
       "      <th>country</th>\n",
       "    </tr>\n",
       "  </thead>\n",
       "  <tbody>\n",
       "  </tbody>\n",
       "</table>\n",
       "</div>"
      ],
      "text/plain": [
       "Empty DataFrame\n",
       "Columns: [event_datetime, user_id, platform, country]\n",
       "Index: []"
      ]
     },
     "execution_count": 8,
     "metadata": {},
     "output_type": "execute_result"
    }
   ],
   "source": [
    "# пустые значения в users\n",
    "\n",
    "sql(\"\"\"\n",
    "SELECT *\n",
    "FROM users\n",
    "WHERE user_id IS NULL\n",
    "   OR event_datetime IS NULL;\n",
    "\"\"\")"
   ]
  },
  {
   "cell_type": "code",
   "execution_count": 9,
   "id": "72d93a59-028a-4f82-9643-1c2ae45f475c",
   "metadata": {},
   "outputs": [
    {
     "data": {
      "text/html": [
       "<div>\n",
       "<style scoped>\n",
       "    .dataframe tbody tr th:only-of-type {\n",
       "        vertical-align: middle;\n",
       "    }\n",
       "\n",
       "    .dataframe tbody tr th {\n",
       "        vertical-align: top;\n",
       "    }\n",
       "\n",
       "    .dataframe thead th {\n",
       "        text-align: right;\n",
       "    }\n",
       "</style>\n",
       "<table border=\"1\" class=\"dataframe\">\n",
       "  <thead>\n",
       "    <tr style=\"text-align: right;\">\n",
       "      <th></th>\n",
       "      <th>min_date</th>\n",
       "      <th>max_date</th>\n",
       "    </tr>\n",
       "  </thead>\n",
       "  <tbody>\n",
       "    <tr>\n",
       "      <th>0</th>\n",
       "      <td>2024-03-01 00:04:31</td>\n",
       "      <td>2024-03-31 23:54:55</td>\n",
       "    </tr>\n",
       "  </tbody>\n",
       "</table>\n",
       "</div>"
      ],
      "text/plain": [
       "              min_date             max_date\n",
       "0  2024-03-01 00:04:31  2024-03-31 23:54:55"
      ]
     },
     "execution_count": 9,
     "metadata": {},
     "output_type": "execute_result"
    }
   ],
   "source": [
    "# крайние даты установок в users\n",
    "\n",
    "sql(\"\"\"\n",
    "SELECT MIN(event_datetime) AS min_date,\n",
    "       MAX(event_datetime) AS max_date\n",
    "FROM users;\n",
    "\"\"\")"
   ]
  },
  {
   "cell_type": "markdown",
   "id": "7febf0b7-d52f-4ab6-8283-7e460e8c009d",
   "metadata": {},
   "source": [
    "Выводы по users:\n",
    "\n",
    "- 29 767 уникальных пользователей\n",
    "- нет дубликатов и пропусков\n",
    "- даты установок от 1 до 31 марта 2024"
   ]
  },
  {
   "cell_type": "markdown",
   "id": "a8aba65e-3433-4e78-a9f8-56a82ed07fed",
   "metadata": {},
   "source": [
    "Проверка attribution:\n",
    "\n",
    "- нет ли user_id с несколькими каналами/кампаниями\n",
    "- нет ли NULL в user_id, media_source, campaign\n",
    "- все ли user_id есть в users"
   ]
  },
  {
   "cell_type": "code",
   "execution_count": 10,
   "id": "8e46e96e-94e9-42d3-bbbb-6f3032961457",
   "metadata": {},
   "outputs": [
    {
     "data": {
      "text/html": [
       "<div>\n",
       "<style scoped>\n",
       "    .dataframe tbody tr th:only-of-type {\n",
       "        vertical-align: middle;\n",
       "    }\n",
       "\n",
       "    .dataframe tbody tr th {\n",
       "        vertical-align: top;\n",
       "    }\n",
       "\n",
       "    .dataframe thead th {\n",
       "        text-align: right;\n",
       "    }\n",
       "</style>\n",
       "<table border=\"1\" class=\"dataframe\">\n",
       "  <thead>\n",
       "    <tr style=\"text-align: right;\">\n",
       "      <th></th>\n",
       "      <th>unique_users</th>\n",
       "      <th>total_rows</th>\n",
       "    </tr>\n",
       "  </thead>\n",
       "  <tbody>\n",
       "    <tr>\n",
       "      <th>0</th>\n",
       "      <td>20711</td>\n",
       "      <td>20711</td>\n",
       "    </tr>\n",
       "  </tbody>\n",
       "</table>\n",
       "</div>"
      ],
      "text/plain": [
       "   unique_users  total_rows\n",
       "0         20711       20711"
      ]
     },
     "execution_count": 10,
     "metadata": {},
     "output_type": "execute_result"
    }
   ],
   "source": [
    "# уникальность user_id в attribution\n",
    "\n",
    "sql(\"\"\"\n",
    "SELECT COUNT(DISTINCT user_id) AS unique_users,\n",
    "       COUNT(*) AS total_rows\n",
    "FROM attribution;\n",
    "\"\"\")\n"
   ]
  },
  {
   "cell_type": "code",
   "execution_count": 11,
   "id": "a26cf2e3-61c1-424e-a4f6-9c4502e61d5b",
   "metadata": {},
   "outputs": [
    {
     "data": {
      "text/html": [
       "<div>\n",
       "<style scoped>\n",
       "    .dataframe tbody tr th:only-of-type {\n",
       "        vertical-align: middle;\n",
       "    }\n",
       "\n",
       "    .dataframe tbody tr th {\n",
       "        vertical-align: top;\n",
       "    }\n",
       "\n",
       "    .dataframe thead th {\n",
       "        text-align: right;\n",
       "    }\n",
       "</style>\n",
       "<table border=\"1\" class=\"dataframe\">\n",
       "  <thead>\n",
       "    <tr style=\"text-align: right;\">\n",
       "      <th></th>\n",
       "      <th>user_id</th>\n",
       "      <th>media_source</th>\n",
       "      <th>campaign</th>\n",
       "    </tr>\n",
       "  </thead>\n",
       "  <tbody>\n",
       "  </tbody>\n",
       "</table>\n",
       "</div>"
      ],
      "text/plain": [
       "Empty DataFrame\n",
       "Columns: [user_id, media_source, campaign]\n",
       "Index: []"
      ]
     },
     "execution_count": 11,
     "metadata": {},
     "output_type": "execute_result"
    }
   ],
   "source": [
    "# пустые значения в attribution\n",
    "\n",
    "sql(\"\"\"\n",
    "SELECT *\n",
    "FROM attribution\n",
    "WHERE user_id IS NULL\n",
    "   OR media_source IS NULL\n",
    "   OR campaign IS NULL;\n",
    "\"\"\")"
   ]
  },
  {
   "cell_type": "code",
   "execution_count": 12,
   "id": "a089549a-f765-461b-ae75-fc13da969960",
   "metadata": {},
   "outputs": [
    {
     "data": {
      "text/html": [
       "<div>\n",
       "<style scoped>\n",
       "    .dataframe tbody tr th:only-of-type {\n",
       "        vertical-align: middle;\n",
       "    }\n",
       "\n",
       "    .dataframe tbody tr th {\n",
       "        vertical-align: top;\n",
       "    }\n",
       "\n",
       "    .dataframe thead th {\n",
       "        text-align: right;\n",
       "    }\n",
       "</style>\n",
       "<table border=\"1\" class=\"dataframe\">\n",
       "  <thead>\n",
       "    <tr style=\"text-align: right;\">\n",
       "      <th></th>\n",
       "      <th>user_id</th>\n",
       "    </tr>\n",
       "  </thead>\n",
       "  <tbody>\n",
       "  </tbody>\n",
       "</table>\n",
       "</div>"
      ],
      "text/plain": [
       "Empty DataFrame\n",
       "Columns: [user_id]\n",
       "Index: []"
      ]
     },
     "execution_count": 12,
     "metadata": {},
     "output_type": "execute_result"
    }
   ],
   "source": [
    "# пользователи в attribution, которых нет в users\n",
    "\n",
    "sql(\"\"\"\n",
    "SELECT attribution.user_id\n",
    "FROM attribution\n",
    "LEFT JOIN users ON attribution.user_id = users.user_id\n",
    "WHERE users.user_id IS NULL;\n",
    "\"\"\")"
   ]
  },
  {
   "cell_type": "markdown",
   "id": "69b9a544-11ff-447c-b1a1-b76543dbb232",
   "metadata": {},
   "source": [
    "Выводы по attribution:\n",
    "\n",
    "- 20 711 строк, 20 711 уникальных пользователей\n",
    "- нет дубликатов\n",
    "- нет пропусков в user_id, media_source, campaign\n",
    "- все user_id присутствуют в users"
   ]
  },
  {
   "cell_type": "markdown",
   "id": "0cb94f9c-4083-45eb-83b4-e4cc0269bf85",
   "metadata": {},
   "source": [
    "Проверка payments:\n",
    "\n",
    "- нет ли NULL в user_id и amount\n",
    "- нет ли отрицательных значений amount\n",
    "- все ли user_id есть в users\n",
    "- нет ли платежей раньше даты установки пользователя"
   ]
  },
  {
   "cell_type": "code",
   "execution_count": 13,
   "id": "c4a1ab64-51de-4f0a-b6ec-a0e7e2b88605",
   "metadata": {},
   "outputs": [
    {
     "data": {
      "text/html": [
       "<div>\n",
       "<style scoped>\n",
       "    .dataframe tbody tr th:only-of-type {\n",
       "        vertical-align: middle;\n",
       "    }\n",
       "\n",
       "    .dataframe tbody tr th {\n",
       "        vertical-align: top;\n",
       "    }\n",
       "\n",
       "    .dataframe thead th {\n",
       "        text-align: right;\n",
       "    }\n",
       "</style>\n",
       "<table border=\"1\" class=\"dataframe\">\n",
       "  <thead>\n",
       "    <tr style=\"text-align: right;\">\n",
       "      <th></th>\n",
       "      <th>bad_rows</th>\n",
       "    </tr>\n",
       "  </thead>\n",
       "  <tbody>\n",
       "    <tr>\n",
       "      <th>0</th>\n",
       "      <td>0</td>\n",
       "    </tr>\n",
       "  </tbody>\n",
       "</table>\n",
       "</div>"
      ],
      "text/plain": [
       "   bad_rows\n",
       "0         0"
      ]
     },
     "execution_count": 13,
     "metadata": {},
     "output_type": "execute_result"
    }
   ],
   "source": [
    "# Проверка на NULL в ключевых полях в Payments\n",
    "\n",
    "sql(\"\"\"\n",
    "SELECT COUNT(*) AS bad_rows\n",
    "FROM payments\n",
    "WHERE user_id IS NULL\n",
    "   OR revenue IS NULL\n",
    "   OR event_datetime IS NULL;\n",
    "\"\"\")"
   ]
  },
  {
   "cell_type": "code",
   "execution_count": 14,
   "id": "d5bbce20-0244-4097-9120-84e5f2424ba3",
   "metadata": {},
   "outputs": [
    {
     "data": {
      "text/html": [
       "<div>\n",
       "<style scoped>\n",
       "    .dataframe tbody tr th:only-of-type {\n",
       "        vertical-align: middle;\n",
       "    }\n",
       "\n",
       "    .dataframe tbody tr th {\n",
       "        vertical-align: top;\n",
       "    }\n",
       "\n",
       "    .dataframe thead th {\n",
       "        text-align: right;\n",
       "    }\n",
       "</style>\n",
       "<table border=\"1\" class=\"dataframe\">\n",
       "  <thead>\n",
       "    <tr style=\"text-align: right;\">\n",
       "      <th></th>\n",
       "      <th>negative_revenue</th>\n",
       "    </tr>\n",
       "  </thead>\n",
       "  <tbody>\n",
       "    <tr>\n",
       "      <th>0</th>\n",
       "      <td>0</td>\n",
       "    </tr>\n",
       "  </tbody>\n",
       "</table>\n",
       "</div>"
      ],
      "text/plain": [
       "   negative_revenue\n",
       "0                 0"
      ]
     },
     "execution_count": 14,
     "metadata": {},
     "output_type": "execute_result"
    }
   ],
   "source": [
    "# Проверка на отрицательные платежи в Payments\n",
    "\n",
    "sql(\"\"\"\n",
    "SELECT COUNT(*) AS negative_revenue\n",
    "FROM payments\n",
    "WHERE revenue < 0;\n",
    "\"\"\")"
   ]
  },
  {
   "cell_type": "code",
   "execution_count": 15,
   "id": "a2f947ce-f855-4cb9-87dc-2b42a18212f2",
   "metadata": {},
   "outputs": [
    {
     "data": {
      "text/html": [
       "<div>\n",
       "<style scoped>\n",
       "    .dataframe tbody tr th:only-of-type {\n",
       "        vertical-align: middle;\n",
       "    }\n",
       "\n",
       "    .dataframe tbody tr th {\n",
       "        vertical-align: top;\n",
       "    }\n",
       "\n",
       "    .dataframe thead th {\n",
       "        text-align: right;\n",
       "    }\n",
       "</style>\n",
       "<table border=\"1\" class=\"dataframe\">\n",
       "  <thead>\n",
       "    <tr style=\"text-align: right;\">\n",
       "      <th></th>\n",
       "      <th>missing_users</th>\n",
       "    </tr>\n",
       "  </thead>\n",
       "  <tbody>\n",
       "    <tr>\n",
       "      <th>0</th>\n",
       "      <td>0</td>\n",
       "    </tr>\n",
       "  </tbody>\n",
       "</table>\n",
       "</div>"
      ],
      "text/plain": [
       "   missing_users\n",
       "0              0"
      ]
     },
     "execution_count": 15,
     "metadata": {},
     "output_type": "execute_result"
    }
   ],
   "source": [
    "# Проверка что все user_id есть в users в Payments\n",
    "\n",
    "sql(\"\"\"\n",
    "SELECT COUNT(*) AS missing_users\n",
    "FROM payments\n",
    "LEFT JOIN users ON payments.user_id = users.user_id\n",
    "WHERE users.user_id IS NULL;\n",
    "\"\"\")"
   ]
  },
  {
   "cell_type": "code",
   "execution_count": 16,
   "id": "035cb7eb-9b05-4d58-bf70-f0b234d3595f",
   "metadata": {},
   "outputs": [
    {
     "data": {
      "text/html": [
       "<div>\n",
       "<style scoped>\n",
       "    .dataframe tbody tr th:only-of-type {\n",
       "        vertical-align: middle;\n",
       "    }\n",
       "\n",
       "    .dataframe tbody tr th {\n",
       "        vertical-align: top;\n",
       "    }\n",
       "\n",
       "    .dataframe thead th {\n",
       "        text-align: right;\n",
       "    }\n",
       "</style>\n",
       "<table border=\"1\" class=\"dataframe\">\n",
       "  <thead>\n",
       "    <tr style=\"text-align: right;\">\n",
       "      <th></th>\n",
       "      <th>payments_before_install</th>\n",
       "    </tr>\n",
       "  </thead>\n",
       "  <tbody>\n",
       "    <tr>\n",
       "      <th>0</th>\n",
       "      <td>0</td>\n",
       "    </tr>\n",
       "  </tbody>\n",
       "</table>\n",
       "</div>"
      ],
      "text/plain": [
       "   payments_before_install\n",
       "0                        0"
      ]
     },
     "execution_count": 16,
     "metadata": {},
     "output_type": "execute_result"
    }
   ],
   "source": [
    "# Проверка нет ли платежей раньше даты установки пользователя в Payments\n",
    "\n",
    "sql(\"\"\"\n",
    "SELECT COUNT(*) AS payments_before_install\n",
    "FROM payments\n",
    "JOIN users ON payments.user_id = users.user_id\n",
    "WHERE payments.event_datetime < users.event_datetime;\n",
    "\"\"\")\n"
   ]
  },
  {
   "cell_type": "markdown",
   "id": "4dd69e40-a430-4fe5-8218-c1d78883a01e",
   "metadata": {},
   "source": [
    "Выводы по payments:\n",
    "\n",
    "- нет NULL в user_id, event_datetime, revenue\n",
    "- нет отрицательных значений revenue\n",
    "- все user_id присутствуют в users\n",
    "- нет платежей раньше даты установки"
   ]
  },
  {
   "cell_type": "markdown",
   "id": "2fbc0fef-b36c-42b3-9e38-288fdab907e8",
   "metadata": {},
   "source": [
    "Проверка ad_data:\n",
    "\n",
    "- нет ли NULL в date, media_source, campaign, costs, impressions, clicks\n",
    "- нет ли отрицательных значений в costs, impressions, clicks\n",
    "- даты в разумном диапазоне (совпадают с периодом в users/payments)\n",
    "- нет ли дублей по ключу: date + media_source + campaign + platform + country\n",
    "- логика метрик: clicks <= impressions (CTR не > 100%)"
   ]
  },
  {
   "cell_type": "code",
   "execution_count": 17,
   "id": "e77bf4c0-0c17-4d5e-9948-01a656b5e01c",
   "metadata": {},
   "outputs": [
    {
     "data": {
      "text/html": [
       "<div>\n",
       "<style scoped>\n",
       "    .dataframe tbody tr th:only-of-type {\n",
       "        vertical-align: middle;\n",
       "    }\n",
       "\n",
       "    .dataframe tbody tr th {\n",
       "        vertical-align: top;\n",
       "    }\n",
       "\n",
       "    .dataframe thead th {\n",
       "        text-align: right;\n",
       "    }\n",
       "</style>\n",
       "<table border=\"1\" class=\"dataframe\">\n",
       "  <thead>\n",
       "    <tr style=\"text-align: right;\">\n",
       "      <th></th>\n",
       "      <th>bad_rows</th>\n",
       "    </tr>\n",
       "  </thead>\n",
       "  <tbody>\n",
       "    <tr>\n",
       "      <th>0</th>\n",
       "      <td>0</td>\n",
       "    </tr>\n",
       "  </tbody>\n",
       "</table>\n",
       "</div>"
      ],
      "text/plain": [
       "   bad_rows\n",
       "0         0"
      ]
     },
     "execution_count": 17,
     "metadata": {},
     "output_type": "execute_result"
    }
   ],
   "source": [
    "# Проверка NULL в ad_data\n",
    "\n",
    "sql(\"\"\"\n",
    "SELECT COUNT(*) AS bad_rows\n",
    "FROM ad_data\n",
    "WHERE date IS NULL\n",
    "   OR media_source IS NULL\n",
    "   OR campaign IS NULL\n",
    "   OR costs IS NULL\n",
    "   OR impressions IS NULL\n",
    "   OR clicks IS NULL;\n",
    "\"\"\")\n"
   ]
  },
  {
   "cell_type": "code",
   "execution_count": 18,
   "id": "59375476-1843-4251-88e5-57eda097d97d",
   "metadata": {},
   "outputs": [
    {
     "data": {
      "text/html": [
       "<div>\n",
       "<style scoped>\n",
       "    .dataframe tbody tr th:only-of-type {\n",
       "        vertical-align: middle;\n",
       "    }\n",
       "\n",
       "    .dataframe tbody tr th {\n",
       "        vertical-align: top;\n",
       "    }\n",
       "\n",
       "    .dataframe thead th {\n",
       "        text-align: right;\n",
       "    }\n",
       "</style>\n",
       "<table border=\"1\" class=\"dataframe\">\n",
       "  <thead>\n",
       "    <tr style=\"text-align: right;\">\n",
       "      <th></th>\n",
       "      <th>negative_values</th>\n",
       "    </tr>\n",
       "  </thead>\n",
       "  <tbody>\n",
       "    <tr>\n",
       "      <th>0</th>\n",
       "      <td>0</td>\n",
       "    </tr>\n",
       "  </tbody>\n",
       "</table>\n",
       "</div>"
      ],
      "text/plain": [
       "   negative_values\n",
       "0                0"
      ]
     },
     "execution_count": 18,
     "metadata": {},
     "output_type": "execute_result"
    }
   ],
   "source": [
    "# Проверка отрицательных значений в ad_data\n",
    "\n",
    "sql(\"\"\"\n",
    "SELECT COUNT(*) AS negative_values\n",
    "FROM ad_data\n",
    "WHERE costs < 0\n",
    "   OR impressions < 0\n",
    "   OR clicks < 0;\n",
    "\"\"\")\n"
   ]
  },
  {
   "cell_type": "code",
   "execution_count": 19,
   "id": "d07d7c1b-a710-4d03-8d8e-530d9bd87e59",
   "metadata": {},
   "outputs": [
    {
     "data": {
      "text/html": [
       "<div>\n",
       "<style scoped>\n",
       "    .dataframe tbody tr th:only-of-type {\n",
       "        vertical-align: middle;\n",
       "    }\n",
       "\n",
       "    .dataframe tbody tr th {\n",
       "        vertical-align: top;\n",
       "    }\n",
       "\n",
       "    .dataframe thead th {\n",
       "        text-align: right;\n",
       "    }\n",
       "</style>\n",
       "<table border=\"1\" class=\"dataframe\">\n",
       "  <thead>\n",
       "    <tr style=\"text-align: right;\">\n",
       "      <th></th>\n",
       "      <th>min_date</th>\n",
       "      <th>max_date</th>\n",
       "    </tr>\n",
       "  </thead>\n",
       "  <tbody>\n",
       "    <tr>\n",
       "      <th>0</th>\n",
       "      <td>2024-03-01</td>\n",
       "      <td>2024-03-31</td>\n",
       "    </tr>\n",
       "  </tbody>\n",
       "</table>\n",
       "</div>"
      ],
      "text/plain": [
       "     min_date    max_date\n",
       "0  2024-03-01  2024-03-31"
      ]
     },
     "execution_count": 19,
     "metadata": {},
     "output_type": "execute_result"
    }
   ],
   "source": [
    "# Проверка диапазона дат в ad_data\n",
    "\n",
    "sql(\"\"\"\n",
    "SELECT MIN(date) AS min_date,\n",
    "       MAX(date) AS max_date\n",
    "FROM ad_data;\n",
    "\"\"\")\n"
   ]
  },
  {
   "cell_type": "code",
   "execution_count": 20,
   "id": "dcf8e4f0-5b7b-4ff4-af45-654a6b2cb387",
   "metadata": {},
   "outputs": [
    {
     "data": {
      "text/html": [
       "<div>\n",
       "<style scoped>\n",
       "    .dataframe tbody tr th:only-of-type {\n",
       "        vertical-align: middle;\n",
       "    }\n",
       "\n",
       "    .dataframe tbody tr th {\n",
       "        vertical-align: top;\n",
       "    }\n",
       "\n",
       "    .dataframe thead th {\n",
       "        text-align: right;\n",
       "    }\n",
       "</style>\n",
       "<table border=\"1\" class=\"dataframe\">\n",
       "  <thead>\n",
       "    <tr style=\"text-align: right;\">\n",
       "      <th></th>\n",
       "      <th>duplicate_groups</th>\n",
       "    </tr>\n",
       "  </thead>\n",
       "  <tbody>\n",
       "    <tr>\n",
       "      <th>0</th>\n",
       "      <td>0</td>\n",
       "    </tr>\n",
       "  </tbody>\n",
       "</table>\n",
       "</div>"
      ],
      "text/plain": [
       "   duplicate_groups\n",
       "0                 0"
      ]
     },
     "execution_count": 20,
     "metadata": {},
     "output_type": "execute_result"
    }
   ],
   "source": [
    "# Проверка дублей по ключу\n",
    "\n",
    "sql(\"\"\"\n",
    "SELECT COUNT(*) AS duplicate_groups\n",
    "FROM (\n",
    "    SELECT \n",
    "        date, \n",
    "        media_source, \n",
    "        campaign, \n",
    "        platform, \n",
    "        country, \n",
    "        COUNT(*) AS rows_in_group\n",
    "    FROM ad_data\n",
    "    GROUP BY date, media_source, campaign, platform, country\n",
    "    HAVING COUNT(*) > 1\n",
    ") AS grouped_combinations;\n",
    "\"\"\")\n"
   ]
  },
  {
   "cell_type": "code",
   "execution_count": 21,
   "id": "e4668810-3a2d-439c-bc42-32dbf0ff4eba",
   "metadata": {},
   "outputs": [
    {
     "data": {
      "text/html": [
       "<div>\n",
       "<style scoped>\n",
       "    .dataframe tbody tr th:only-of-type {\n",
       "        vertical-align: middle;\n",
       "    }\n",
       "\n",
       "    .dataframe tbody tr th {\n",
       "        vertical-align: top;\n",
       "    }\n",
       "\n",
       "    .dataframe thead th {\n",
       "        text-align: right;\n",
       "    }\n",
       "</style>\n",
       "<table border=\"1\" class=\"dataframe\">\n",
       "  <thead>\n",
       "    <tr style=\"text-align: right;\">\n",
       "      <th></th>\n",
       "      <th>invalid_ctr_rows</th>\n",
       "    </tr>\n",
       "  </thead>\n",
       "  <tbody>\n",
       "    <tr>\n",
       "      <th>0</th>\n",
       "      <td>0</td>\n",
       "    </tr>\n",
       "  </tbody>\n",
       "</table>\n",
       "</div>"
      ],
      "text/plain": [
       "   invalid_ctr_rows\n",
       "0                 0"
      ]
     },
     "execution_count": 21,
     "metadata": {},
     "output_type": "execute_result"
    }
   ],
   "source": [
    "# Проверка: кликов не больше, чем показов\n",
    "\n",
    "sql(\"\"\"\n",
    "SELECT COUNT(*) AS invalid_ctr_rows\n",
    "FROM ad_data\n",
    "WHERE clicks > impressions;\n",
    "\"\"\")\n"
   ]
  },
  {
   "cell_type": "markdown",
   "id": "9774ed53-106a-4424-9c96-fd7500a417bd",
   "metadata": {},
   "source": [
    "Выводы по ad_data:\n",
    "\n",
    "- нет NULL в date, media_source, campaign, costs, impressions, clicks\n",
    "- нет отрицательных значений в costs, impressions, clicks\n",
    "- даты в разумном диапазоне, совпадают с периодом users и payments\n",
    "- нет дублей по ключу date + media_source + campaign + platform + country\n",
    "- clicks не превышают impressions (CTR ≤ 100%)"
   ]
  },
  {
   "cell_type": "code",
   "execution_count": 22,
   "id": "7865bdb7-ca0c-4f6a-b3fd-c0e112e76c43",
   "metadata": {},
   "outputs": [
    {
     "data": {
      "text/html": [
       "<div>\n",
       "<style scoped>\n",
       "    .dataframe tbody tr th:only-of-type {\n",
       "        vertical-align: middle;\n",
       "    }\n",
       "\n",
       "    .dataframe tbody tr th {\n",
       "        vertical-align: top;\n",
       "    }\n",
       "\n",
       "    .dataframe thead th {\n",
       "        text-align: right;\n",
       "    }\n",
       "</style>\n",
       "<table border=\"1\" class=\"dataframe\">\n",
       "  <thead>\n",
       "    <tr style=\"text-align: right;\">\n",
       "      <th></th>\n",
       "      <th>unique_combinations</th>\n",
       "    </tr>\n",
       "  </thead>\n",
       "  <tbody>\n",
       "    <tr>\n",
       "      <th>0</th>\n",
       "      <td>6</td>\n",
       "    </tr>\n",
       "  </tbody>\n",
       "</table>\n",
       "</div>"
      ],
      "text/plain": [
       "   unique_combinations\n",
       "0                    6"
      ]
     },
     "execution_count": 22,
     "metadata": {},
     "output_type": "execute_result"
    }
   ],
   "source": [
    "sql(\"\"\"\n",
    "SELECT COUNT(*) AS unique_combinations\n",
    "FROM (\n",
    "    SELECT DISTINCT campaign\n",
    "    FROM ad_data\n",
    ");\n",
    "\"\"\")\n"
   ]
  },
  {
   "cell_type": "markdown",
   "id": "e2ec5a7f-36d3-4fc2-b27c-a7449a125f0d",
   "metadata": {},
   "source": [
    "Подготовка сводной таблицы:\n",
    "- сгруппировать данные по date, media_source, campaign\n",
    "- из users + attribution получить количество установок (installs)\n",
    "- из payments + attribution получить выручку (revenue)\n",
    "- из ad_data получить расходы (costs), показы (impressions) и клики (clicks)\n",
    "- объединить всё по ключу date + media_source + campaign"
   ]
  },
  {
   "cell_type": "markdown",
   "id": "02fb2abb-e471-429e-b780-0703e9ecfcdb",
   "metadata": {},
   "source": [
    "Каркас из ad_data: дневные рекламные метрики\n",
    "Агрегируем расходы, показы и клики по ключу date + media_source + campaign."
   ]
  },
  {
   "cell_type": "code",
   "execution_count": 23,
   "id": "4408778c-b906-4063-a29a-440490b8ea6e",
   "metadata": {},
   "outputs": [
    {
     "data": {
      "text/html": [
       "<div>\n",
       "<style scoped>\n",
       "    .dataframe tbody tr th:only-of-type {\n",
       "        vertical-align: middle;\n",
       "    }\n",
       "\n",
       "    .dataframe tbody tr th {\n",
       "        vertical-align: top;\n",
       "    }\n",
       "\n",
       "    .dataframe thead th {\n",
       "        text-align: right;\n",
       "    }\n",
       "</style>\n",
       "<table border=\"1\" class=\"dataframe\">\n",
       "  <thead>\n",
       "    <tr style=\"text-align: right;\">\n",
       "      <th></th>\n",
       "      <th>date</th>\n",
       "      <th>media_source</th>\n",
       "      <th>campaign</th>\n",
       "      <th>costs</th>\n",
       "      <th>impressions</th>\n",
       "      <th>clicks</th>\n",
       "    </tr>\n",
       "  </thead>\n",
       "  <tbody>\n",
       "    <tr>\n",
       "      <th>0</th>\n",
       "      <td>2024-03-01</td>\n",
       "      <td>tiktokglobal_int</td>\n",
       "      <td>tt_campaign_1</td>\n",
       "      <td>373.682987</td>\n",
       "      <td>55620</td>\n",
       "      <td>2201</td>\n",
       "    </tr>\n",
       "    <tr>\n",
       "      <th>1</th>\n",
       "      <td>2024-03-01</td>\n",
       "      <td>tiktokglobal_int</td>\n",
       "      <td>tt_campaign_4</td>\n",
       "      <td>130.908847</td>\n",
       "      <td>27650</td>\n",
       "      <td>675</td>\n",
       "    </tr>\n",
       "    <tr>\n",
       "      <th>2</th>\n",
       "      <td>2024-03-02</td>\n",
       "      <td>tiktokglobal_int</td>\n",
       "      <td>tt_campaign_1</td>\n",
       "      <td>370.283288</td>\n",
       "      <td>85610</td>\n",
       "      <td>1470</td>\n",
       "    </tr>\n",
       "    <tr>\n",
       "      <th>3</th>\n",
       "      <td>2024-03-02</td>\n",
       "      <td>tiktokglobal_int</td>\n",
       "      <td>tt_campaign_4</td>\n",
       "      <td>123.301634</td>\n",
       "      <td>17787</td>\n",
       "      <td>494</td>\n",
       "    </tr>\n",
       "    <tr>\n",
       "      <th>4</th>\n",
       "      <td>2024-03-03</td>\n",
       "      <td>tiktokglobal_int</td>\n",
       "      <td>tt_campaign_1</td>\n",
       "      <td>373.219923</td>\n",
       "      <td>74222</td>\n",
       "      <td>2512</td>\n",
       "    </tr>\n",
       "  </tbody>\n",
       "</table>\n",
       "</div>"
      ],
      "text/plain": [
       "         date      media_source       campaign       costs  impressions  \\\n",
       "0  2024-03-01  tiktokglobal_int  tt_campaign_1  373.682987        55620   \n",
       "1  2024-03-01  tiktokglobal_int  tt_campaign_4  130.908847        27650   \n",
       "2  2024-03-02  tiktokglobal_int  tt_campaign_1  370.283288        85610   \n",
       "3  2024-03-02  tiktokglobal_int  tt_campaign_4  123.301634        17787   \n",
       "4  2024-03-03  tiktokglobal_int  tt_campaign_1  373.219923        74222   \n",
       "\n",
       "   clicks  \n",
       "0    2201  \n",
       "1     675  \n",
       "2    1470  \n",
       "3     494  \n",
       "4    2512  "
      ]
     },
     "execution_count": 23,
     "metadata": {},
     "output_type": "execute_result"
    }
   ],
   "source": [
    "ad_metrics = sql(\"\"\"\n",
    "SELECT\n",
    "  DATE(date)       AS date,\n",
    "  media_source,\n",
    "  campaign,\n",
    "  SUM(costs)       AS costs,\n",
    "  SUM(impressions) AS impressions,\n",
    "  SUM(clicks)      AS clicks\n",
    "FROM ad_data\n",
    "GROUP BY DATE(date), media_source, campaign\n",
    "ORDER BY date, media_source, campaign;\n",
    "\"\"\")\n",
    "ad_metrics.head()\n"
   ]
  },
  {
   "cell_type": "markdown",
   "id": "a602f144-771d-4d28-87fc-b101d1f8eead",
   "metadata": {},
   "source": [
    "Установки (installs) из users + attribution\n",
    "Берём дату установки из users.event_datetime, а привязку к каналу/кампании — из attribution по user_id. Считаем уникальных пользователей."
   ]
  },
  {
   "cell_type": "code",
   "execution_count": 24,
   "id": "8bc046de-f5cf-4e08-babd-1a6cd16e4bda",
   "metadata": {},
   "outputs": [
    {
     "data": {
      "text/html": [
       "<div>\n",
       "<style scoped>\n",
       "    .dataframe tbody tr th:only-of-type {\n",
       "        vertical-align: middle;\n",
       "    }\n",
       "\n",
       "    .dataframe tbody tr th {\n",
       "        vertical-align: top;\n",
       "    }\n",
       "\n",
       "    .dataframe thead th {\n",
       "        text-align: right;\n",
       "    }\n",
       "</style>\n",
       "<table border=\"1\" class=\"dataframe\">\n",
       "  <thead>\n",
       "    <tr style=\"text-align: right;\">\n",
       "      <th></th>\n",
       "      <th>date</th>\n",
       "      <th>media_source</th>\n",
       "      <th>campaign</th>\n",
       "      <th>installs</th>\n",
       "    </tr>\n",
       "  </thead>\n",
       "  <tbody>\n",
       "    <tr>\n",
       "      <th>0</th>\n",
       "      <td>2024-03-01</td>\n",
       "      <td>tiktokglobal_int</td>\n",
       "      <td>tt_campaign_1</td>\n",
       "      <td>254</td>\n",
       "    </tr>\n",
       "    <tr>\n",
       "      <th>1</th>\n",
       "      <td>2024-03-01</td>\n",
       "      <td>tiktokglobal_int</td>\n",
       "      <td>tt_campaign_4</td>\n",
       "      <td>93</td>\n",
       "    </tr>\n",
       "    <tr>\n",
       "      <th>2</th>\n",
       "      <td>2024-03-02</td>\n",
       "      <td>tiktokglobal_int</td>\n",
       "      <td>tt_campaign_1</td>\n",
       "      <td>218</td>\n",
       "    </tr>\n",
       "    <tr>\n",
       "      <th>3</th>\n",
       "      <td>2024-03-02</td>\n",
       "      <td>tiktokglobal_int</td>\n",
       "      <td>tt_campaign_4</td>\n",
       "      <td>60</td>\n",
       "    </tr>\n",
       "    <tr>\n",
       "      <th>4</th>\n",
       "      <td>2024-03-03</td>\n",
       "      <td>tiktokglobal_int</td>\n",
       "      <td>tt_campaign_1</td>\n",
       "      <td>405</td>\n",
       "    </tr>\n",
       "  </tbody>\n",
       "</table>\n",
       "</div>"
      ],
      "text/plain": [
       "         date      media_source       campaign  installs\n",
       "0  2024-03-01  tiktokglobal_int  tt_campaign_1       254\n",
       "1  2024-03-01  tiktokglobal_int  tt_campaign_4        93\n",
       "2  2024-03-02  tiktokglobal_int  tt_campaign_1       218\n",
       "3  2024-03-02  tiktokglobal_int  tt_campaign_4        60\n",
       "4  2024-03-03  tiktokglobal_int  tt_campaign_1       405"
      ]
     },
     "execution_count": 24,
     "metadata": {},
     "output_type": "execute_result"
    }
   ],
   "source": [
    "daily_installs = sql(\"\"\"\n",
    "SELECT\n",
    "  DATE(users.event_datetime)    AS date,\n",
    "  attribution.media_source      AS media_source,\n",
    "  attribution.campaign          AS campaign,\n",
    "  COUNT(DISTINCT users.user_id) AS installs\n",
    "FROM users\n",
    "JOIN attribution\n",
    "  ON users.user_id = attribution.user_id\n",
    "GROUP BY DATE(users.event_datetime), attribution.media_source, attribution.campaign\n",
    "ORDER BY date, media_source, campaign;\n",
    "\"\"\")\n",
    "daily_installs.head()\n"
   ]
  },
  {
   "cell_type": "markdown",
   "id": "5277e56d-0e92-48e4-883c-c60e6f2ef8df",
   "metadata": {},
   "source": [
    "Выручка (revenue) из payments + attribution\n",
    "Берём дату платежа из payments.event_datetime, суммируем revenue, привязываем к каналу/кампании через attribution."
   ]
  },
  {
   "cell_type": "code",
   "execution_count": 25,
   "id": "bfc01a4e-2a10-4b8c-9510-c570c475aaed",
   "metadata": {},
   "outputs": [
    {
     "data": {
      "text/html": [
       "<div>\n",
       "<style scoped>\n",
       "    .dataframe tbody tr th:only-of-type {\n",
       "        vertical-align: middle;\n",
       "    }\n",
       "\n",
       "    .dataframe tbody tr th {\n",
       "        vertical-align: top;\n",
       "    }\n",
       "\n",
       "    .dataframe thead th {\n",
       "        text-align: right;\n",
       "    }\n",
       "</style>\n",
       "<table border=\"1\" class=\"dataframe\">\n",
       "  <thead>\n",
       "    <tr style=\"text-align: right;\">\n",
       "      <th></th>\n",
       "      <th>date</th>\n",
       "      <th>media_source</th>\n",
       "      <th>campaign</th>\n",
       "      <th>revenue</th>\n",
       "    </tr>\n",
       "  </thead>\n",
       "  <tbody>\n",
       "    <tr>\n",
       "      <th>0</th>\n",
       "      <td>2024-03-02</td>\n",
       "      <td>tiktokglobal_int</td>\n",
       "      <td>tt_campaign_1</td>\n",
       "      <td>11.823100</td>\n",
       "    </tr>\n",
       "    <tr>\n",
       "      <th>1</th>\n",
       "      <td>2024-03-02</td>\n",
       "      <td>tiktokglobal_int</td>\n",
       "      <td>tt_campaign_4</td>\n",
       "      <td>2.350400</td>\n",
       "    </tr>\n",
       "    <tr>\n",
       "      <th>2</th>\n",
       "      <td>2024-03-03</td>\n",
       "      <td>tiktokglobal_int</td>\n",
       "      <td>tt_campaign_1</td>\n",
       "      <td>58.466801</td>\n",
       "    </tr>\n",
       "    <tr>\n",
       "      <th>3</th>\n",
       "      <td>2024-03-03</td>\n",
       "      <td>tiktokglobal_int</td>\n",
       "      <td>tt_campaign_4</td>\n",
       "      <td>38.486001</td>\n",
       "    </tr>\n",
       "    <tr>\n",
       "      <th>4</th>\n",
       "      <td>2024-03-04</td>\n",
       "      <td>applovin_int</td>\n",
       "      <td>al_campaign_1</td>\n",
       "      <td>9.737900</td>\n",
       "    </tr>\n",
       "  </tbody>\n",
       "</table>\n",
       "</div>"
      ],
      "text/plain": [
       "         date      media_source       campaign    revenue\n",
       "0  2024-03-02  tiktokglobal_int  tt_campaign_1  11.823100\n",
       "1  2024-03-02  tiktokglobal_int  tt_campaign_4   2.350400\n",
       "2  2024-03-03  tiktokglobal_int  tt_campaign_1  58.466801\n",
       "3  2024-03-03  tiktokglobal_int  tt_campaign_4  38.486001\n",
       "4  2024-03-04      applovin_int  al_campaign_1   9.737900"
      ]
     },
     "execution_count": 25,
     "metadata": {},
     "output_type": "execute_result"
    }
   ],
   "source": [
    "daily_revenue = sql(\"\"\"\n",
    "SELECT\n",
    "  DATE(payments.event_datetime) AS date,\n",
    "  attribution.media_source      AS media_source,\n",
    "  attribution.campaign          AS campaign,\n",
    "  SUM(payments.revenue)         AS revenue\n",
    "FROM payments\n",
    "JOIN attribution\n",
    "  ON payments.user_id = attribution.user_id\n",
    "GROUP BY DATE(payments.event_datetime), attribution.media_source, attribution.campaign\n",
    "ORDER BY date, media_source, campaign;\n",
    "\"\"\")\n",
    "daily_revenue.head()\n"
   ]
  },
  {
   "cell_type": "markdown",
   "id": "fa98e10c-2ec8-41e0-8bbc-ccd0e08faf10",
   "metadata": {},
   "source": [
    "Финальная сводная таблица\n",
    "К «каркасу» из ad_data подтягиваем installs и revenue по ключу date + media_source + campaign. Там, где значений нет, ставим 0."
   ]
  },
  {
   "cell_type": "code",
   "execution_count": 26,
   "id": "eaeb3be9-02b3-46c5-9e8c-28b6956a4351",
   "metadata": {},
   "outputs": [
    {
     "data": {
      "text/html": [
       "<div>\n",
       "<style scoped>\n",
       "    .dataframe tbody tr th:only-of-type {\n",
       "        vertical-align: middle;\n",
       "    }\n",
       "\n",
       "    .dataframe tbody tr th {\n",
       "        vertical-align: top;\n",
       "    }\n",
       "\n",
       "    .dataframe thead th {\n",
       "        text-align: right;\n",
       "    }\n",
       "</style>\n",
       "<table border=\"1\" class=\"dataframe\">\n",
       "  <thead>\n",
       "    <tr style=\"text-align: right;\">\n",
       "      <th></th>\n",
       "      <th>date</th>\n",
       "      <th>media_source</th>\n",
       "      <th>campaign</th>\n",
       "      <th>installs</th>\n",
       "      <th>revenue</th>\n",
       "      <th>costs</th>\n",
       "      <th>impressions</th>\n",
       "      <th>clicks</th>\n",
       "    </tr>\n",
       "  </thead>\n",
       "  <tbody>\n",
       "    <tr>\n",
       "      <th>0</th>\n",
       "      <td>2024-03-01</td>\n",
       "      <td>tiktokglobal_int</td>\n",
       "      <td>tt_campaign_1</td>\n",
       "      <td>254</td>\n",
       "      <td>0.000000</td>\n",
       "      <td>373.682987</td>\n",
       "      <td>55620</td>\n",
       "      <td>2201</td>\n",
       "    </tr>\n",
       "    <tr>\n",
       "      <th>1</th>\n",
       "      <td>2024-03-01</td>\n",
       "      <td>tiktokglobal_int</td>\n",
       "      <td>tt_campaign_4</td>\n",
       "      <td>93</td>\n",
       "      <td>0.000000</td>\n",
       "      <td>130.908847</td>\n",
       "      <td>27650</td>\n",
       "      <td>675</td>\n",
       "    </tr>\n",
       "    <tr>\n",
       "      <th>2</th>\n",
       "      <td>2024-03-02</td>\n",
       "      <td>tiktokglobal_int</td>\n",
       "      <td>tt_campaign_1</td>\n",
       "      <td>218</td>\n",
       "      <td>11.823100</td>\n",
       "      <td>370.283288</td>\n",
       "      <td>85610</td>\n",
       "      <td>1470</td>\n",
       "    </tr>\n",
       "    <tr>\n",
       "      <th>3</th>\n",
       "      <td>2024-03-02</td>\n",
       "      <td>tiktokglobal_int</td>\n",
       "      <td>tt_campaign_4</td>\n",
       "      <td>60</td>\n",
       "      <td>2.350400</td>\n",
       "      <td>123.301634</td>\n",
       "      <td>17787</td>\n",
       "      <td>494</td>\n",
       "    </tr>\n",
       "    <tr>\n",
       "      <th>4</th>\n",
       "      <td>2024-03-03</td>\n",
       "      <td>tiktokglobal_int</td>\n",
       "      <td>tt_campaign_1</td>\n",
       "      <td>405</td>\n",
       "      <td>58.466801</td>\n",
       "      <td>373.219923</td>\n",
       "      <td>74222</td>\n",
       "      <td>2512</td>\n",
       "    </tr>\n",
       "  </tbody>\n",
       "</table>\n",
       "</div>"
      ],
      "text/plain": [
       "         date      media_source       campaign  installs    revenue  \\\n",
       "0  2024-03-01  tiktokglobal_int  tt_campaign_1       254   0.000000   \n",
       "1  2024-03-01  tiktokglobal_int  tt_campaign_4        93   0.000000   \n",
       "2  2024-03-02  tiktokglobal_int  tt_campaign_1       218  11.823100   \n",
       "3  2024-03-02  tiktokglobal_int  tt_campaign_4        60   2.350400   \n",
       "4  2024-03-03  tiktokglobal_int  tt_campaign_1       405  58.466801   \n",
       "\n",
       "        costs  impressions  clicks  \n",
       "0  373.682987        55620    2201  \n",
       "1  130.908847        27650     675  \n",
       "2  370.283288        85610    1470  \n",
       "3  123.301634        17787     494  \n",
       "4  373.219923        74222    2512  "
      ]
     },
     "execution_count": 26,
     "metadata": {},
     "output_type": "execute_result"
    }
   ],
   "source": [
    "report = sql(\"\"\"\n",
    "SELECT\n",
    "  ad.date,\n",
    "  ad.media_source,\n",
    "  ad.campaign,\n",
    "  COALESCE(di.installs, 0) AS installs,\n",
    "  COALESCE(dr.revenue, 0)  AS revenue,\n",
    "  ad.costs,\n",
    "  ad.impressions,\n",
    "  ad.clicks\n",
    "FROM (\n",
    "  SELECT\n",
    "    DATE(date)       AS date,\n",
    "    media_source,\n",
    "    campaign,\n",
    "    SUM(costs)       AS costs,\n",
    "    SUM(impressions) AS impressions,\n",
    "    SUM(clicks)      AS clicks\n",
    "  FROM ad_data\n",
    "  GROUP BY DATE(date), media_source, campaign\n",
    ") AS ad\n",
    "LEFT JOIN (\n",
    "  SELECT\n",
    "    DATE(users.event_datetime)    AS date,\n",
    "    attribution.media_source      AS media_source,\n",
    "    attribution.campaign          AS campaign,\n",
    "    COUNT(DISTINCT users.user_id) AS installs\n",
    "  FROM users\n",
    "  JOIN attribution\n",
    "    ON users.user_id = attribution.user_id\n",
    "  GROUP BY DATE(users.event_datetime), attribution.media_source, attribution.campaign\n",
    ") AS di\n",
    "  ON di.date = ad.date\n",
    " AND di.media_source = ad.media_source\n",
    " AND di.campaign = ad.campaign\n",
    "LEFT JOIN (\n",
    "  SELECT\n",
    "    DATE(payments.event_datetime) AS date,\n",
    "    attribution.media_source      AS media_source,\n",
    "    attribution.campaign          AS campaign,\n",
    "    SUM(payments.revenue)         AS revenue\n",
    "  FROM payments\n",
    "  JOIN attribution\n",
    "    ON payments.user_id = attribution.user_id\n",
    "  GROUP BY DATE(payments.event_datetime), attribution.media_source, attribution.campaign\n",
    ") AS dr\n",
    "  ON dr.date = ad.date\n",
    " AND dr.media_source = ad.media_source\n",
    " AND dr.campaign = ad.campaign\n",
    "ORDER BY ad.date, ad.media_source, ad.campaign;\n",
    "\"\"\")\n",
    "report.head()\n"
   ]
  },
  {
   "cell_type": "code",
   "execution_count": 27,
   "id": "6a6e44bb-2b4e-4fdb-a84d-361ebe034b2d",
   "metadata": {},
   "outputs": [],
   "source": [
    "report.to_csv(\"marketing_summary_by_date_channel_campaign.csv\", index=False)\n"
   ]
  },
  {
   "cell_type": "markdown",
   "id": "19722d66-f50a-40e0-b3a2-4ae9279b9da6",
   "metadata": {},
   "source": [
    "## Вывод по сводной таблице\n",
    "\n",
    "- данные сгруппированы по date + media_source + campaign\n",
    "- объединены расходы (costs, impressions, clicks) из ad_data\n",
    "- добавлены установки (installs) из users + attribution\n",
    "- добавлена выручка (revenue) из payments + attribution\n",
    "- органические пользователи не включены (учтены только атрибутированные)\n",
    "- пропуски заменены на 0 с помощью COALESCE"
   ]
  },
  {
   "cell_type": "code",
   "execution_count": null,
   "id": "2c811c98-f85c-47aa-9d39-2ea1f61d6281",
   "metadata": {},
   "outputs": [],
   "source": []
  }
 ],
 "metadata": {
  "kernelspec": {
   "display_name": "Python 3 (ipykernel)",
   "language": "python",
   "name": "python3"
  },
  "language_info": {
   "codemirror_mode": {
    "name": "ipython",
    "version": 3
   },
   "file_extension": ".py",
   "mimetype": "text/x-python",
   "name": "python",
   "nbconvert_exporter": "python",
   "pygments_lexer": "ipython3",
   "version": "3.11.6"
  }
 },
 "nbformat": 4,
 "nbformat_minor": 5
}
