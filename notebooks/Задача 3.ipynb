{
 "cells": [
  {
   "cell_type": "markdown",
   "id": "4be7edb2-b4cc-48cd-92e4-07fe5275f4d9",
   "metadata": {},
   "source": [
    "## Задача 3\n",
    "UA-менеджер обратился к Вам с просьбой проверить корректность атрибуции пользователей на канале googleadwords_int. У него есть подозрения, что некоторым пользователям не присваивается корректная атрибуция. Проведите исследование данной проблемы и опишите результаты."
   ]
  },
  {
   "cell_type": "markdown",
   "id": "37333e48-2b73-4288-b307-02d109afc5bb",
   "metadata": {},
   "source": [
    "## План:\n",
    "\n",
    "- Загрузить users.csv и attribution.csv в pandas.DataFrame.\n",
    "- Посчитать:\n",
    "  - количество пользователей в users\n",
    "  - количество пользователей, имеющих запись в attribution\n",
    "  - количество пользователей без атрибуции\n",
    "- Отфильтровать строки, где media_source == \"googleadwords_int\", и посчитать их количество и долю от всех пользователей с атрибуцией.\n",
    "- Найти пользователей, которые есть в users, но отсутствуют в attribution.\n",
    "- Вывести итоговую таблицу: user_id | есть_в_users | есть_в_attribution | media_source\n",
    "- На основе таблицы посчитать:\n",
    "  - сколько пользователей без атрибуции (есть_в_attribution == False)\n",
    "  - сколько пользователей с googleadwords_int и их долю среди всех с атрибуцией\n",
    "- Сделать выводы о корректности атрибуции."
   ]
  },
  {
   "cell_type": "code",
   "execution_count": 1,
   "id": "1ea85bd0-75d9-4497-9044-2eb9e5dd08a7",
   "metadata": {},
   "outputs": [],
   "source": [
    "import pandas as pd\n",
    "\n",
    "# Загружаем данные\n",
    "users = pd.read_csv('users.csv')\n",
    "attribution = pd.read_csv('attribution.csv')"
   ]
  },
  {
   "cell_type": "code",
   "execution_count": 2,
   "id": "993f8084-3b0a-4631-b5c6-b9639ad8727e",
   "metadata": {},
   "outputs": [],
   "source": [
    "# Количество пользователей всего\n",
    "total_users = users['user_id'].nunique()"
   ]
  },
  {
   "cell_type": "code",
   "execution_count": 3,
   "id": "5f702a67-4da3-4e87-9ab6-ec31e4c91113",
   "metadata": {},
   "outputs": [],
   "source": [
    "# Количество пользователей с атрибуцией\n",
    "users_with_attr = attribution['user_id'].nunique()"
   ]
  },
  {
   "cell_type": "code",
   "execution_count": 4,
   "id": "28fb5561-cb75-4f8f-bffb-4ee1e3cca9b1",
   "metadata": {},
   "outputs": [],
   "source": [
    "# Количество без атрибуции\n",
    "users_without_attr = total_users - users_with_attr"
   ]
  },
  {
   "cell_type": "code",
   "execution_count": 5,
   "id": "cae21a26-f178-4137-acb2-564ec7d499ae",
   "metadata": {},
   "outputs": [
    {
     "name": "stdout",
     "output_type": "stream",
     "text": [
      "Всего пользователей: 29767\n",
      "С атрибуцией: 20711\n",
      "Без атрибуции: 9056\n"
     ]
    }
   ],
   "source": [
    "print(\"Всего пользователей:\", total_users)\n",
    "print(\"С атрибуцией:\", users_with_attr)\n",
    "print(\"Без атрибуции:\", users_without_attr)"
   ]
  },
  {
   "cell_type": "code",
   "execution_count": 6,
   "id": "4ee9f3a2-16a9-4dc6-b04c-8f9aa502531d",
   "metadata": {},
   "outputs": [
    {
     "name": "stdout",
     "output_type": "stream",
     "text": [
      "Пользователей с googleadwords_int: 1457\n",
      "Доля от всех с атрибуцией: 7.03%\n"
     ]
    }
   ],
   "source": [
    "# Фильтруем пользователей с media_source == 'googleadwords_int'\n",
    "google_users = attribution[attribution['media_source'] == 'googleadwords_int']\n",
    "\n",
    "# Количество таких пользователей\n",
    "google_count = google_users['user_id'].nunique()\n",
    "\n",
    "# Доля от всех пользователей с атрибуцией\n",
    "share = round(google_count / users_with_attr * 100, 2)\n",
    "\n",
    "print(\"Пользователей с googleadwords_int:\", google_count)\n",
    "print(\"Доля от всех с атрибуцией:\", f\"{share}%\")\n"
   ]
  },
  {
   "cell_type": "code",
   "execution_count": 7,
   "id": "327f9748-8560-4ce9-aa0b-7c3f32c29c96",
   "metadata": {},
   "outputs": [
    {
     "data": {
      "text/html": [
       "<div>\n",
       "<style scoped>\n",
       "    .dataframe tbody tr th:only-of-type {\n",
       "        vertical-align: middle;\n",
       "    }\n",
       "\n",
       "    .dataframe tbody tr th {\n",
       "        vertical-align: top;\n",
       "    }\n",
       "\n",
       "    .dataframe thead th {\n",
       "        text-align: right;\n",
       "    }\n",
       "</style>\n",
       "<table border=\"1\" class=\"dataframe\">\n",
       "  <thead>\n",
       "    <tr style=\"text-align: right;\">\n",
       "      <th></th>\n",
       "      <th>user_id</th>\n",
       "      <th>есть_в_users</th>\n",
       "      <th>есть_в_attribution</th>\n",
       "      <th>media_source</th>\n",
       "    </tr>\n",
       "  </thead>\n",
       "  <tbody>\n",
       "    <tr>\n",
       "      <th>0</th>\n",
       "      <td>5feceb66-ffc8-6f38-d952-786c6d696c79</td>\n",
       "      <td>True</td>\n",
       "      <td>True</td>\n",
       "      <td>tiktokglobal_int</td>\n",
       "    </tr>\n",
       "    <tr>\n",
       "      <th>1</th>\n",
       "      <td>6b86b273-ff34-fce1-9d6b-804eff5a3f57</td>\n",
       "      <td>True</td>\n",
       "      <td>True</td>\n",
       "      <td>tiktokglobal_int</td>\n",
       "    </tr>\n",
       "    <tr>\n",
       "      <th>2</th>\n",
       "      <td>d4735e3a-265e-16ee-e03f-59718b9b5d03</td>\n",
       "      <td>True</td>\n",
       "      <td>True</td>\n",
       "      <td>tiktokglobal_int</td>\n",
       "    </tr>\n",
       "    <tr>\n",
       "      <th>3</th>\n",
       "      <td>4e074085-62be-db8b-60ce-05c1decfe3ad</td>\n",
       "      <td>True</td>\n",
       "      <td>True</td>\n",
       "      <td>tiktokglobal_int</td>\n",
       "    </tr>\n",
       "    <tr>\n",
       "      <th>4</th>\n",
       "      <td>4b227777-d4dd-1fc6-1c6f-884f48641d02</td>\n",
       "      <td>True</td>\n",
       "      <td>True</td>\n",
       "      <td>tiktokglobal_int</td>\n",
       "    </tr>\n",
       "  </tbody>\n",
       "</table>\n",
       "</div>"
      ],
      "text/plain": [
       "                                user_id  есть_в_users  есть_в_attribution  \\\n",
       "0  5feceb66-ffc8-6f38-d952-786c6d696c79          True                True   \n",
       "1  6b86b273-ff34-fce1-9d6b-804eff5a3f57          True                True   \n",
       "2  d4735e3a-265e-16ee-e03f-59718b9b5d03          True                True   \n",
       "3  4e074085-62be-db8b-60ce-05c1decfe3ad          True                True   \n",
       "4  4b227777-d4dd-1fc6-1c6f-884f48641d02          True                True   \n",
       "\n",
       "       media_source  \n",
       "0  tiktokglobal_int  \n",
       "1  tiktokglobal_int  \n",
       "2  tiktokglobal_int  \n",
       "3  tiktokglobal_int  \n",
       "4  tiktokglobal_int  "
      ]
     },
     "execution_count": 7,
     "metadata": {},
     "output_type": "execute_result"
    }
   ],
   "source": [
    "# Соединяем users и attribution по user_id\n",
    "merged = users.merge(\n",
    "    attribution[['user_id', 'media_source']],\n",
    "    on='user_id',\n",
    "    how='left'\n",
    ")\n",
    "\n",
    "# Добавляем флаги\n",
    "merged['есть_в_users'] = True\n",
    "merged['есть_в_attribution'] = merged['media_source'].notna()\n",
    "\n",
    "# Оставляем только нужные столбцы\n",
    "result = merged[['user_id', 'есть_в_users', 'есть_в_attribution', 'media_source']]\n",
    "\n",
    "# Посмотреть первые строки\n",
    "result.head()\n"
   ]
  },
  {
   "cell_type": "code",
   "execution_count": 8,
   "id": "2aca36cd-a10c-4435-ae24-5a824fb6cc88",
   "metadata": {},
   "outputs": [
    {
     "name": "stdout",
     "output_type": "stream",
     "text": [
      "Всего пользователей: 29767\n",
      "С атрибуцией: 20711\n",
      "Без атрибуции: 9056 (30.42%)\n",
      "С googleadwords_int: 1457 (7.03% от всех с атрибуцией)\n"
     ]
    }
   ],
   "source": [
    "# Всего пользователей\n",
    "total = result['user_id'].nunique()\n",
    "\n",
    "# С атрибуцией\n",
    "with_attr = result[result['есть_в_attribution']].shape[0]\n",
    "\n",
    "# Без атрибуции\n",
    "without_attr = result[~result['есть_в_attribution']].shape[0]\n",
    "without_attr_pct = round(without_attr / total * 100, 2)\n",
    "\n",
    "# С googleadwords_int\n",
    "google = result[result['media_source'] == 'googleadwords_int'].shape[0]\n",
    "google_pct = round(google / with_attr * 100, 2)\n",
    "\n",
    "print(f\"Всего пользователей: {total}\")\n",
    "print(f\"С атрибуцией: {with_attr}\")\n",
    "print(f\"Без атрибуции: {without_attr} ({without_attr_pct}%)\")\n",
    "print(f\"С googleadwords_int: {google} ({google_pct}% от всех с атрибуцией)\")"
   ]
  },
  {
   "cell_type": "markdown",
   "id": "06f76543-dcbc-4259-9c61-36bed1552754",
   "metadata": {},
   "source": [
    "## Выводы\n",
    "\n",
    "- Доля пользователей без атрибуции — 30%, что довольно много и может указывать на проблему с обработкой событий установки.\n",
    "- Доля пользователей с googleadwords_int — 7%, что выглядит довольно скромно.\n",
    "- Возможно, часть пользователей, которые пришли с googleadwords_int, не получили атрибуцию и попали в группу «без атрибуции».\n",
    "\n",
    "Есть признаки проблемы с атрибуцией: высокая доля пользователей без атрибуции может искажать статистику по `googleadwords_int` и занижать его эффективность."
   ]
  }
 ],
 "metadata": {
  "kernelspec": {
   "display_name": "Python 3 (ipykernel)",
   "language": "python",
   "name": "python3"
  },
  "language_info": {
   "codemirror_mode": {
    "name": "ipython",
    "version": 3
   },
   "file_extension": ".py",
   "mimetype": "text/x-python",
   "name": "python",
   "nbconvert_exporter": "python",
   "pygments_lexer": "ipython3",
   "version": "3.11.6"
  }
 },
 "nbformat": 4,
 "nbformat_minor": 5
}
