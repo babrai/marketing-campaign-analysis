{
 "cells": [
  {
   "cell_type": "markdown",
   "id": "8dec3835-065c-42da-9405-7feb136a12e9",
   "metadata": {},
   "source": [
    "## Задача 2\n",
    "Загрузите подготовленные в Задаче 1 данные в pd.DataFrame. Выполните анализ рекламных кампаний на канале tiktokglobal_int за предложенный период времени. Определите, какие кампании можно считать эффективными или перспективными, а какие — нет.\n",
    "Критерий эффективности кампании: пользователи, привлеченные этой кампанией, на 7-й день жизни после регистрации (то есть через 168 часов) приносят доход, который превышает 18% от рекламных затрат (ROAS 7 > 18%). Отсчет дней жизни ведется с момента регистрации пользователя интервалами по 24 часа."
   ]
  },
  {
   "cell_type": "markdown",
   "id": "c201fd61-0834-4e33-8a79-5a3ba728d47f",
   "metadata": {},
   "source": [
    "## План:\n",
    "\n",
    "- Загрузить CSV в pandas.DataFrame, проверить типы данных, привести к корректным, если необходимо;\n",
    "- Отфильтровать строки, где media_source == \"tiktokglobal_int\";\n",
    "- Сгруппировать данные по campaign, чтобы сложить все доходы и затраты за период:\n",
    "  - sum(costs)\n",
    "  - sum(revenue) — общий доход за анализируемый период (используем как total_revenue_7)\n",
    "- Посчитать ROAS 7 по формуле ROAS7 = costs / total_revenue_7;\n",
    "- Создать колонку status:\n",
    "  - эффективная — если roas_7 > 0.18\n",
    "  - неэффективная — иначе\n",
    "- Вывести итоговую таблицу — campaign | costs | total_revenue_7 | roas_7 | status."
   ]
  },
  {
   "cell_type": "code",
   "execution_count": 5,
   "id": "a0676442-8b0f-4626-a6ff-3c6629ad7d9a",
   "metadata": {},
   "outputs": [
    {
     "name": "stdout",
     "output_type": "stream",
     "text": [
      "date             object\n",
      "media_source     object\n",
      "campaign         object\n",
      "installs          int64\n",
      "revenue         float64\n",
      "costs           float64\n",
      "impressions       int64\n",
      "clicks            int64\n",
      "dtype: object\n"
     ]
    }
   ],
   "source": [
    "# Загрузить CSV в pandas.DataFrame, проверить типы данных\n",
    "\n",
    "import pandas as pd\n",
    "\n",
    "df = pd.read_csv(\"marketing_summary_by_date_channel_campaign.csv\")\n",
    "print(df.dtypes)\n"
   ]
  },
  {
   "cell_type": "code",
   "execution_count": 3,
   "id": "3e3d741e-2feb-41c4-9ebe-c3c23506e221",
   "metadata": {},
   "outputs": [
    {
     "name": "stdout",
     "output_type": "stream",
     "text": [
      "date            datetime64[ns]\n",
      "media_source            object\n",
      "campaign                object\n",
      "installs                 int64\n",
      "revenue                float64\n",
      "costs                  float64\n",
      "impressions              int64\n",
      "clicks                   int64\n",
      "dtype: object\n"
     ]
    }
   ],
   "source": [
    "# Изментиь тип данных Data с object на datetime\n",
    "\n",
    "df['date'] = pd.to_datetime(df['date'])\n",
    "print(df.dtypes)"
   ]
  },
  {
   "cell_type": "code",
   "execution_count": 6,
   "id": "a0299f87-f6cb-47d9-a405-88a8218ade94",
   "metadata": {},
   "outputs": [
    {
     "data": {
      "text/html": [
       "<div>\n",
       "<style scoped>\n",
       "    .dataframe tbody tr th:only-of-type {\n",
       "        vertical-align: middle;\n",
       "    }\n",
       "\n",
       "    .dataframe tbody tr th {\n",
       "        vertical-align: top;\n",
       "    }\n",
       "\n",
       "    .dataframe thead th {\n",
       "        text-align: right;\n",
       "    }\n",
       "</style>\n",
       "<table border=\"1\" class=\"dataframe\">\n",
       "  <thead>\n",
       "    <tr style=\"text-align: right;\">\n",
       "      <th></th>\n",
       "      <th>date</th>\n",
       "      <th>media_source</th>\n",
       "      <th>campaign</th>\n",
       "      <th>installs</th>\n",
       "      <th>revenue</th>\n",
       "      <th>costs</th>\n",
       "      <th>impressions</th>\n",
       "      <th>clicks</th>\n",
       "    </tr>\n",
       "  </thead>\n",
       "  <tbody>\n",
       "    <tr>\n",
       "      <th>0</th>\n",
       "      <td>2024-03-01</td>\n",
       "      <td>tiktokglobal_int</td>\n",
       "      <td>tt_campaign_1</td>\n",
       "      <td>254</td>\n",
       "      <td>0.000000</td>\n",
       "      <td>373.682987</td>\n",
       "      <td>55620</td>\n",
       "      <td>2201</td>\n",
       "    </tr>\n",
       "    <tr>\n",
       "      <th>1</th>\n",
       "      <td>2024-03-01</td>\n",
       "      <td>tiktokglobal_int</td>\n",
       "      <td>tt_campaign_4</td>\n",
       "      <td>93</td>\n",
       "      <td>0.000000</td>\n",
       "      <td>130.908847</td>\n",
       "      <td>27650</td>\n",
       "      <td>675</td>\n",
       "    </tr>\n",
       "    <tr>\n",
       "      <th>2</th>\n",
       "      <td>2024-03-02</td>\n",
       "      <td>tiktokglobal_int</td>\n",
       "      <td>tt_campaign_1</td>\n",
       "      <td>218</td>\n",
       "      <td>11.823100</td>\n",
       "      <td>370.283288</td>\n",
       "      <td>85610</td>\n",
       "      <td>1470</td>\n",
       "    </tr>\n",
       "    <tr>\n",
       "      <th>3</th>\n",
       "      <td>2024-03-02</td>\n",
       "      <td>tiktokglobal_int</td>\n",
       "      <td>tt_campaign_4</td>\n",
       "      <td>60</td>\n",
       "      <td>2.350400</td>\n",
       "      <td>123.301634</td>\n",
       "      <td>17787</td>\n",
       "      <td>494</td>\n",
       "    </tr>\n",
       "    <tr>\n",
       "      <th>4</th>\n",
       "      <td>2024-03-03</td>\n",
       "      <td>tiktokglobal_int</td>\n",
       "      <td>tt_campaign_1</td>\n",
       "      <td>405</td>\n",
       "      <td>58.466801</td>\n",
       "      <td>373.219923</td>\n",
       "      <td>74222</td>\n",
       "      <td>2512</td>\n",
       "    </tr>\n",
       "  </tbody>\n",
       "</table>\n",
       "</div>"
      ],
      "text/plain": [
       "         date      media_source       campaign  installs    revenue  \\\n",
       "0  2024-03-01  tiktokglobal_int  tt_campaign_1       254   0.000000   \n",
       "1  2024-03-01  tiktokglobal_int  tt_campaign_4        93   0.000000   \n",
       "2  2024-03-02  tiktokglobal_int  tt_campaign_1       218  11.823100   \n",
       "3  2024-03-02  tiktokglobal_int  tt_campaign_4        60   2.350400   \n",
       "4  2024-03-03  tiktokglobal_int  tt_campaign_1       405  58.466801   \n",
       "\n",
       "        costs  impressions  clicks  \n",
       "0  373.682987        55620    2201  \n",
       "1  130.908847        27650     675  \n",
       "2  370.283288        85610    1470  \n",
       "3  123.301634        17787     494  \n",
       "4  373.219923        74222    2512  "
      ]
     },
     "execution_count": 6,
     "metadata": {},
     "output_type": "execute_result"
    }
   ],
   "source": [
    "# Фильтрация только по каналу tiktokglobal_int\n",
    "\n",
    "tiktok_df = df[df['media_source'] == 'tiktokglobal_int']\n",
    "tiktok_df.head()"
   ]
  },
  {
   "cell_type": "code",
   "execution_count": 8,
   "id": "c63a3ccb-498b-462a-aed2-69bff33281f5",
   "metadata": {},
   "outputs": [],
   "source": [
    "# Группируем по кампании и суммируем траты и доход\n",
    "\n",
    "grouped = (\n",
    "    tiktok_df\n",
    "      .groupby('campaign', as_index=False)[['costs', 'revenue']]\n",
    "      .sum()\n",
    ")"
   ]
  },
  {
   "cell_type": "code",
   "execution_count": 9,
   "id": "51c95bff-9baa-437e-a9b5-a7a71771c330",
   "metadata": {},
   "outputs": [],
   "source": [
    "# Переименуем 'revenue' в 'total_revenue_7' (доход за анализируемый период)\n",
    "\n",
    "grouped = grouped.rename(columns={'revenue': 'total_revenue_7'})"
   ]
  },
  {
   "cell_type": "code",
   "execution_count": 10,
   "id": "5fc45811-bb75-4100-af1a-103410a7f405",
   "metadata": {},
   "outputs": [],
   "source": [
    "# ROAS_7 = total_revenue_7 / costs\n",
    "\n",
    "grouped['roas_7'] = (grouped['total_revenue_7'] / grouped['costs']).fillna(0).round(4)"
   ]
  },
  {
   "cell_type": "code",
   "execution_count": 16,
   "id": "6086c7df-3e41-4992-98a6-7152c845968d",
   "metadata": {},
   "outputs": [
    {
     "name": "stdout",
     "output_type": "stream",
     "text": [
      "        campaign        costs  total_revenue_7  roas_7         status\n",
      "0  tt_campaign_1  9331.254887      2191.308934  0.2348    эффективная\n",
      "1  tt_campaign_2  2879.353299       440.453019  0.1530  неэффективная\n",
      "2  tt_campaign_3  4893.326561      1316.011202  0.2689    эффективная\n",
      "3  tt_campaign_4   892.362465       400.746598  0.4491    эффективная\n"
     ]
    }
   ],
   "source": [
    "# Статус по порогу 18% (0.18)\n",
    "\n",
    "grouped['status'] = grouped['roas_7'].gt(0.18).map({True: 'эффективная', False: 'неэффективная'})\n",
    "grouped.to_csv('tiktok_campaign_eval.csv', index=False)\n",
    "print(grouped.head(10))"
   ]
  },
  {
   "cell_type": "markdown",
   "id": "097e9f97-2b3e-473f-88f6-402b28244d2e",
   "metadata": {},
   "source": [
    "## Выводы по результатам анализа\n",
    "\n",
    "- На канале tiktokglobal_int за анализируемый период были запущены 4 кампании.  \n",
    "- По критерию ROAS_7 > 0.18:\n",
    "  - 3 кампании признаны эффективными,  \n",
    "  - 1 кампания признана неэффективной.  \n",
    "- Наиболее успешные кампании:\n",
    "  - tt_campaign_4 — ROAS_7 ≈ 0.45\n",
    "  - tt_campaign_3 — ROAS_7 ≈ 0.27\n",
    "  - tt_campaign_1 — ROAS_7 ≈ 0.23\n",
    "- Кампания tt_campaign_2 показала ROAS_7 ≈ 0.15 и не достигла порогового значения эффективности.\n",
    "\n",
    "Рекомендации:\n",
    "- Продолжить и масштабировать кампании с высоким ROAS_7 (tt_campaign_4, tt_campaign_3, tt_campaign_1).\n",
    "- Проанализировать причины низкой окупаемости tt_campaign_2 (креативы, аудитории, ставки) и при отсутствии улучшений — остановить кампанию.\n"
   ]
  }
 ],
 "metadata": {
  "kernelspec": {
   "display_name": "Python 3 (ipykernel)",
   "language": "python",
   "name": "python3"
  },
  "language_info": {
   "codemirror_mode": {
    "name": "ipython",
    "version": 3
   },
   "file_extension": ".py",
   "mimetype": "text/x-python",
   "name": "python",
   "nbconvert_exporter": "python",
   "pygments_lexer": "ipython3",
   "version": "3.11.6"
  }
 },
 "nbformat": 4,
 "nbformat_minor": 5
}
